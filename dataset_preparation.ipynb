{
 "cells": [
  {
   "cell_type": "code",
   "execution_count": 2,
   "metadata": {},
   "outputs": [],
   "source": [
    "import pandas as pd\n",
    "import numpy as np\n",
    "import math"
   ]
  },
  {
   "cell_type": "code",
   "execution_count": 3,
   "metadata": {},
   "outputs": [],
   "source": [
    "posts_df = pd.read_csv('./neural_networks_1/posts_df.csv')"
   ]
  },
  {
   "cell_type": "code",
   "execution_count": 4,
   "metadata": {},
   "outputs": [
    {
     "data": {
      "text/plain": [
       "(262577, 8)"
      ]
     },
     "execution_count": 4,
     "metadata": {},
     "output_type": "execute_result"
    }
   ],
   "source": [
    "posts_df.shape"
   ]
  },
  {
   "cell_type": "code",
   "execution_count": 5,
   "metadata": {},
   "outputs": [
    {
     "data": {
      "text/html": [
       "<div>\n",
       "<style scoped>\n",
       "    .dataframe tbody tr th:only-of-type {\n",
       "        vertical-align: middle;\n",
       "    }\n",
       "\n",
       "    .dataframe tbody tr th {\n",
       "        vertical-align: top;\n",
       "    }\n",
       "\n",
       "    .dataframe thead th {\n",
       "        text-align: right;\n",
       "    }\n",
       "</style>\n",
       "<table border=\"1\" class=\"dataframe\">\n",
       "  <thead>\n",
       "    <tr style=\"text-align: right;\">\n",
       "      <th></th>\n",
       "      <th>time</th>\n",
       "      <th>tags</th>\n",
       "      <th>nsfw</th>\n",
       "      <th>my</th>\n",
       "      <th>images</th>\n",
       "      <th>videos</th>\n",
       "      <th>text_len</th>\n",
       "      <th>rating</th>\n",
       "    </tr>\n",
       "  </thead>\n",
       "  <tbody>\n",
       "    <tr>\n",
       "      <th>0</th>\n",
       "      <td>1569877228,\"Творчество детское, Рисунок, Детск...</td>\n",
       "      <td>NaN</td>\n",
       "      <td>NaN</td>\n",
       "      <td>NaN</td>\n",
       "      <td>NaN</td>\n",
       "      <td>NaN</td>\n",
       "      <td>NaN</td>\n",
       "      <td>NaN</td>\n",
       "    </tr>\n",
       "    <tr>\n",
       "      <th>1</th>\n",
       "      <td>1569877232,\"Собака, Было-Стало, {#73#}\",0,1,1,...</td>\n",
       "      <td>NaN</td>\n",
       "      <td>NaN</td>\n",
       "      <td>NaN</td>\n",
       "      <td>NaN</td>\n",
       "      <td>NaN</td>\n",
       "      <td>NaN</td>\n",
       "      <td>NaN</td>\n",
       "    </tr>\n",
       "    <tr>\n",
       "      <th>2</th>\n",
       "      <td>1569877241,\"Дерево, Поле, Фотография\",0,0,1,0,...</td>\n",
       "      <td>NaN</td>\n",
       "      <td>NaN</td>\n",
       "      <td>NaN</td>\n",
       "      <td>NaN</td>\n",
       "      <td>NaN</td>\n",
       "      <td>NaN</td>\n",
       "      <td>NaN</td>\n",
       "    </tr>\n",
       "  </tbody>\n",
       "</table>\n",
       "</div>"
      ],
      "text/plain": [
       "                                                time tags  nsfw  my  images  \\\n",
       "0  1569877228,\"Творчество детское, Рисунок, Детск...  NaN   NaN NaN     NaN   \n",
       "1  1569877232,\"Собака, Было-Стало, {#73#}\",0,1,1,...  NaN   NaN NaN     NaN   \n",
       "2  1569877241,\"Дерево, Поле, Фотография\",0,0,1,0,...  NaN   NaN NaN     NaN   \n",
       "\n",
       "   videos  text_len  rating  \n",
       "0     NaN       NaN     NaN  \n",
       "1     NaN       NaN     NaN  \n",
       "2     NaN       NaN     NaN  "
      ]
     },
     "execution_count": 5,
     "metadata": {},
     "output_type": "execute_result"
    }
   ],
   "source": [
    "posts_df.head(3) # вижу - какая-то фигня. Попробовала разобраться с исходниками - не получилось.\n",
    "# решила слепить нормальный дф из того, что есть"
   ]
  },
  {
   "cell_type": "markdown",
   "metadata": {
    "tags": []
   },
   "source": [
    "`time` - время публикации поста в формате unix timestamp\n",
    "\n",
    "`tags` - тематические теги поста\n",
    "\n",
    "`nsfw` - относится ли пост к тематике 18+\n",
    "\n",
    "`my` - является ли пост оригинальным авторским\n",
    "\n",
    "`images` - количество картинок в посте\n",
    "\n",
    "`videos` - количество видео в посте\n",
    "\n",
    "`text_len` - длина текста в посте\n",
    "\n",
    "`rating` - финальный рейтинг поста (целевая переменная)"
   ]
  },
  {
   "cell_type": "code",
   "execution_count": null,
   "metadata": {},
   "outputs": [],
   "source": [
    "\"\"\"  проверяю, есть ли все-таки нормальные строки в исходнике\n",
    "Для этого создам отдельный ДФ\n",
    "Имеющиеся нормальные строки солью в него.\n",
    "А из рабочего ДФ их удалю\n",
    "\"\"\""
   ]
  },
  {
   "cell_type": "code",
   "execution_count": null,
   "metadata": {},
   "outputs": [],
   "source": [
    "''' можно воспользоваться особым свойством NaN:\n",
    "\n",
    "In [23]: np.nan == np.nan\n",
    "Out[23]: False\n",
    "Т.е. NaN не равен самому себе. Это даёт нам возможность воспользоваться \n",
    "удобным методом DataFrame.query():\n",
    "\n",
    "print(df.query(\"tags == tags\"))\n",
    "выведет все строки для которых tags == tags - т.е. только те для которых tags != NaN\n",
    "'''"
   ]
  },
  {
   "cell_type": "code",
   "execution_count": 6,
   "metadata": {},
   "outputs": [
    {
     "name": "stdout",
     "output_type": "stream",
     "text": [
      "              time        tags  nsfw   my  images  videos  text_len  rating\n",
      "1231    1569940607       Текст   0.0  0.0     0.0     0.0       4.0   426.0\n",
      "1232    1569940611       Текст   0.0  0.0     0.0     1.0      14.0   114.0\n",
      "1282    1569942149       Текст   0.0  0.0     0.0     0.0     104.0   478.0\n",
      "2132    1569993017  Длиннопост   0.0  0.0    11.0     0.0    7901.0   966.0\n",
      "12645   1570463316  Длиннопост   0.0  0.0     6.0     0.0    4293.0   795.0\n",
      "...            ...         ...   ...  ...     ...     ...       ...     ...\n",
      "231037  1580734219  Длиннопост   0.0  0.0     6.0     0.0   14197.0  1321.0\n",
      "244279  1581333475       Текст   0.0  0.0     0.0     0.0     100.0     8.0\n",
      "244355  1581336170       Текст   0.0  0.0     0.0     0.0     327.0   699.0\n",
      "258505  1581951974       Текст   0.0  0.0     0.0     0.0     498.0   617.0\n",
      "262213  1582113627       Текст   0.0  0.0     1.0     0.0     349.0   613.0\n",
      "\n",
      "[135 rows x 8 columns]\n"
     ]
    }
   ],
   "source": [
    "print(posts_df.query(\"tags == tags\")) # таких строк - 135"
   ]
  },
  {
   "cell_type": "code",
   "execution_count": 7,
   "metadata": {},
   "outputs": [
    {
     "data": {
      "text/plain": [
       "Int64Index([  1231,   1232,   1282,   2132,  12645,  14495,  14641,  18257,\n",
       "             18572,  19570,\n",
       "            ...\n",
       "            203316, 209708, 221012, 228576, 230762, 231037, 244279, 244355,\n",
       "            258505, 262213],\n",
       "           dtype='int64', length=135)"
      ]
     },
     "execution_count": 7,
     "metadata": {},
     "output_type": "execute_result"
    }
   ],
   "source": [
    "correct_lines = posts_df.query(\"tags == tags\").index # дает True (т.е. tags != NaN)- индексы  строк\n",
    "correct_lines"
   ]
  },
  {
   "cell_type": "code",
   "execution_count": 8,
   "metadata": {},
   "outputs": [
    {
     "data": {
      "text/html": [
       "<div>\n",
       "<style scoped>\n",
       "    .dataframe tbody tr th:only-of-type {\n",
       "        vertical-align: middle;\n",
       "    }\n",
       "\n",
       "    .dataframe tbody tr th {\n",
       "        vertical-align: top;\n",
       "    }\n",
       "\n",
       "    .dataframe thead th {\n",
       "        text-align: right;\n",
       "    }\n",
       "</style>\n",
       "<table border=\"1\" class=\"dataframe\">\n",
       "  <thead>\n",
       "    <tr style=\"text-align: right;\">\n",
       "      <th></th>\n",
       "      <th>time</th>\n",
       "      <th>tags</th>\n",
       "      <th>nsfw</th>\n",
       "      <th>my</th>\n",
       "      <th>images</th>\n",
       "      <th>videos</th>\n",
       "      <th>text_len</th>\n",
       "      <th>rating</th>\n",
       "    </tr>\n",
       "  </thead>\n",
       "  <tbody>\n",
       "    <tr>\n",
       "      <th>1231</th>\n",
       "      <td>1569940607</td>\n",
       "      <td>Текст</td>\n",
       "      <td>0.0</td>\n",
       "      <td>0.0</td>\n",
       "      <td>0.0</td>\n",
       "      <td>0.0</td>\n",
       "      <td>4.0</td>\n",
       "      <td>426.0</td>\n",
       "    </tr>\n",
       "    <tr>\n",
       "      <th>1232</th>\n",
       "      <td>1569940611</td>\n",
       "      <td>Текст</td>\n",
       "      <td>0.0</td>\n",
       "      <td>0.0</td>\n",
       "      <td>0.0</td>\n",
       "      <td>1.0</td>\n",
       "      <td>14.0</td>\n",
       "      <td>114.0</td>\n",
       "    </tr>\n",
       "    <tr>\n",
       "      <th>1282</th>\n",
       "      <td>1569942149</td>\n",
       "      <td>Текст</td>\n",
       "      <td>0.0</td>\n",
       "      <td>0.0</td>\n",
       "      <td>0.0</td>\n",
       "      <td>0.0</td>\n",
       "      <td>104.0</td>\n",
       "      <td>478.0</td>\n",
       "    </tr>\n",
       "  </tbody>\n",
       "</table>\n",
       "</div>"
      ],
      "text/plain": [
       "            time   tags  nsfw   my  images  videos  text_len  rating\n",
       "1231  1569940607  Текст   0.0  0.0     0.0     0.0       4.0   426.0\n",
       "1232  1569940611  Текст   0.0  0.0     0.0     1.0      14.0   114.0\n",
       "1282  1569942149  Текст   0.0  0.0     0.0     0.0     104.0   478.0"
      ]
     },
     "execution_count": 8,
     "metadata": {},
     "output_type": "execute_result"
    }
   ],
   "source": [
    "# создадим новый ДФ с \"нормальными\" строками из исходного ДФ\n",
    "correct_lines_df = posts_df.iloc[correct_lines]\n",
    "correct_lines_df.head(3)"
   ]
  },
  {
   "cell_type": "code",
   "execution_count": 9,
   "metadata": {},
   "outputs": [
    {
     "data": {
      "text/html": [
       "<div>\n",
       "<style scoped>\n",
       "    .dataframe tbody tr th:only-of-type {\n",
       "        vertical-align: middle;\n",
       "    }\n",
       "\n",
       "    .dataframe tbody tr th {\n",
       "        vertical-align: top;\n",
       "    }\n",
       "\n",
       "    .dataframe thead th {\n",
       "        text-align: right;\n",
       "    }\n",
       "</style>\n",
       "<table border=\"1\" class=\"dataframe\">\n",
       "  <thead>\n",
       "    <tr style=\"text-align: right;\">\n",
       "      <th></th>\n",
       "      <th>time</th>\n",
       "      <th>tags</th>\n",
       "      <th>nsfw</th>\n",
       "      <th>my</th>\n",
       "      <th>images</th>\n",
       "      <th>videos</th>\n",
       "      <th>text_len</th>\n",
       "      <th>rating</th>\n",
       "    </tr>\n",
       "  </thead>\n",
       "  <tbody>\n",
       "    <tr>\n",
       "      <th>244355</th>\n",
       "      <td>1581336170</td>\n",
       "      <td>Текст</td>\n",
       "      <td>0.0</td>\n",
       "      <td>0.0</td>\n",
       "      <td>0.0</td>\n",
       "      <td>0.0</td>\n",
       "      <td>327.0</td>\n",
       "      <td>699.0</td>\n",
       "    </tr>\n",
       "    <tr>\n",
       "      <th>258505</th>\n",
       "      <td>1581951974</td>\n",
       "      <td>Текст</td>\n",
       "      <td>0.0</td>\n",
       "      <td>0.0</td>\n",
       "      <td>0.0</td>\n",
       "      <td>0.0</td>\n",
       "      <td>498.0</td>\n",
       "      <td>617.0</td>\n",
       "    </tr>\n",
       "    <tr>\n",
       "      <th>262213</th>\n",
       "      <td>1582113627</td>\n",
       "      <td>Текст</td>\n",
       "      <td>0.0</td>\n",
       "      <td>0.0</td>\n",
       "      <td>1.0</td>\n",
       "      <td>0.0</td>\n",
       "      <td>349.0</td>\n",
       "      <td>613.0</td>\n",
       "    </tr>\n",
       "  </tbody>\n",
       "</table>\n",
       "</div>"
      ],
      "text/plain": [
       "              time   tags  nsfw   my  images  videos  text_len  rating\n",
       "244355  1581336170  Текст   0.0  0.0     0.0     0.0     327.0   699.0\n",
       "258505  1581951974  Текст   0.0  0.0     0.0     0.0     498.0   617.0\n",
       "262213  1582113627  Текст   0.0  0.0     1.0     0.0     349.0   613.0"
      ]
     },
     "execution_count": 9,
     "metadata": {},
     "output_type": "execute_result"
    }
   ],
   "source": [
    "# удалить из исходного ДФ \"нормальные строки\"\n",
    "#проверяю по индексу, правильная ли это строка\n",
    "posts_df.iloc[correct_lines].tail(3)"
   ]
  },
  {
   "cell_type": "code",
   "execution_count": 10,
   "metadata": {},
   "outputs": [],
   "source": [
    "# удаляю из исходного ДФ \"нормальные строки\"\n",
    "posts_df = posts_df.drop(index = correct_lines)"
   ]
  },
  {
   "cell_type": "code",
   "execution_count": 11,
   "metadata": {},
   "outputs": [
    {
     "data": {
      "text/html": [
       "<div>\n",
       "<style scoped>\n",
       "    .dataframe tbody tr th:only-of-type {\n",
       "        vertical-align: middle;\n",
       "    }\n",
       "\n",
       "    .dataframe tbody tr th {\n",
       "        vertical-align: top;\n",
       "    }\n",
       "\n",
       "    .dataframe thead th {\n",
       "        text-align: right;\n",
       "    }\n",
       "</style>\n",
       "<table border=\"1\" class=\"dataframe\">\n",
       "  <thead>\n",
       "    <tr style=\"text-align: right;\">\n",
       "      <th></th>\n",
       "      <th>time</th>\n",
       "      <th>tags</th>\n",
       "      <th>nsfw</th>\n",
       "      <th>my</th>\n",
       "      <th>images</th>\n",
       "      <th>videos</th>\n",
       "      <th>text_len</th>\n",
       "      <th>rating</th>\n",
       "    </tr>\n",
       "  </thead>\n",
       "  <tbody>\n",
       "    <tr>\n",
       "      <th>244488</th>\n",
       "      <td>1581341086,\"Продукты питания, Кулинария, Субпр...</td>\n",
       "      <td>NaN</td>\n",
       "      <td>NaN</td>\n",
       "      <td>NaN</td>\n",
       "      <td>NaN</td>\n",
       "      <td>NaN</td>\n",
       "      <td>NaN</td>\n",
       "      <td>NaN</td>\n",
       "    </tr>\n",
       "    <tr>\n",
       "      <th>258639</th>\n",
       "      <td>1581955850,\"Авито, Развод, Собака, Передержка,...</td>\n",
       "      <td>NaN</td>\n",
       "      <td>NaN</td>\n",
       "      <td>NaN</td>\n",
       "      <td>NaN</td>\n",
       "      <td>NaN</td>\n",
       "      <td>NaN</td>\n",
       "      <td>NaN</td>\n",
       "    </tr>\n",
       "    <tr>\n",
       "      <th>262348</th>\n",
       "      <td>1582118047,\"Чай, Лес, Зима, Видео\",0,1,0,1,0,445</td>\n",
       "      <td>NaN</td>\n",
       "      <td>NaN</td>\n",
       "      <td>NaN</td>\n",
       "      <td>NaN</td>\n",
       "      <td>NaN</td>\n",
       "      <td>NaN</td>\n",
       "      <td>NaN</td>\n",
       "    </tr>\n",
       "  </tbody>\n",
       "</table>\n",
       "</div>"
      ],
      "text/plain": [
       "                                                     time tags  nsfw  my  \\\n",
       "244488  1581341086,\"Продукты питания, Кулинария, Субпр...  NaN   NaN NaN   \n",
       "258639  1581955850,\"Авито, Развод, Собака, Передержка,...  NaN   NaN NaN   \n",
       "262348   1582118047,\"Чай, Лес, Зима, Видео\",0,1,0,1,0,445  NaN   NaN NaN   \n",
       "\n",
       "        images  videos  text_len  rating  \n",
       "244488     NaN     NaN       NaN     NaN  \n",
       "258639     NaN     NaN       NaN     NaN  \n",
       "262348     NaN     NaN       NaN     NaN  "
      ]
     },
     "execution_count": 11,
     "metadata": {},
     "output_type": "execute_result"
    }
   ],
   "source": [
    "#снова проверяю по индексу, стали ли правильные строки - неправильными\n",
    "posts_df.iloc[correct_lines].tail(3)"
   ]
  },
  {
   "cell_type": "code",
   "execution_count": null,
   "metadata": {},
   "outputs": [],
   "source": [
    "\"\"\"ПОЕХАЛИ\n",
    "Разделять строку на столбики\n",
    "\"\"\""
   ]
  },
  {
   "cell_type": "code",
   "execution_count": 12,
   "metadata": {},
   "outputs": [
    {
     "data": {
      "text/html": [
       "<div>\n",
       "<style scoped>\n",
       "    .dataframe tbody tr th:only-of-type {\n",
       "        vertical-align: middle;\n",
       "    }\n",
       "\n",
       "    .dataframe tbody tr th {\n",
       "        vertical-align: top;\n",
       "    }\n",
       "\n",
       "    .dataframe thead th {\n",
       "        text-align: right;\n",
       "    }\n",
       "</style>\n",
       "<table border=\"1\" class=\"dataframe\">\n",
       "  <thead>\n",
       "    <tr style=\"text-align: right;\">\n",
       "      <th></th>\n",
       "      <th>time</th>\n",
       "      <th>tags</th>\n",
       "      <th>nsfw</th>\n",
       "      <th>my</th>\n",
       "      <th>images</th>\n",
       "      <th>videos</th>\n",
       "      <th>text_len</th>\n",
       "      <th>rating</th>\n",
       "      <th>string_to_split</th>\n",
       "    </tr>\n",
       "  </thead>\n",
       "  <tbody>\n",
       "    <tr>\n",
       "      <th>0</th>\n",
       "      <td>0</td>\n",
       "      <td>NaN</td>\n",
       "      <td>NaN</td>\n",
       "      <td>NaN</td>\n",
       "      <td>NaN</td>\n",
       "      <td>NaN</td>\n",
       "      <td>NaN</td>\n",
       "      <td>NaN</td>\n",
       "      <td>1569877228,\"Творчество детское, Рисунок, Детск...</td>\n",
       "    </tr>\n",
       "    <tr>\n",
       "      <th>1</th>\n",
       "      <td>0</td>\n",
       "      <td>NaN</td>\n",
       "      <td>NaN</td>\n",
       "      <td>NaN</td>\n",
       "      <td>NaN</td>\n",
       "      <td>NaN</td>\n",
       "      <td>NaN</td>\n",
       "      <td>NaN</td>\n",
       "      <td>1569877232,\"Собака, Было-Стало, {#73#}\",0,1,1,...</td>\n",
       "    </tr>\n",
       "  </tbody>\n",
       "</table>\n",
       "</div>"
      ],
      "text/plain": [
       "   time tags  nsfw  my  images  videos  text_len  rating  \\\n",
       "0     0  NaN   NaN NaN     NaN     NaN       NaN     NaN   \n",
       "1     0  NaN   NaN NaN     NaN     NaN       NaN     NaN   \n",
       "\n",
       "                                     string_to_split  \n",
       "0  1569877228,\"Творчество детское, Рисунок, Детск...  \n",
       "1  1569877232,\"Собака, Было-Стало, {#73#}\",0,1,1,...  "
      ]
     },
     "execution_count": 12,
     "metadata": {},
     "output_type": "execute_result"
    }
   ],
   "source": [
    "# создадим новый столбец со строкой, которую надо разделить\n",
    "posts_df['string_to_split'] = posts_df['time']\n",
    "posts_df['time'] = 0\n",
    "posts_df.head(2)"
   ]
  },
  {
   "cell_type": "code",
   "execution_count": 13,
   "metadata": {
    "tags": []
   },
   "outputs": [],
   "source": [
    "###### убрать пробелы, убрать двойные кавычки, заменить запятую на пробел, преобразовать в list\n",
    "\n",
    "to_list = [] # лист для нового столбца, \"вся эта инфа => list\"\n",
    "for string in posts_df['string_to_split']:\n",
    "    string = string.replace(' ','')\n",
    "    string = string.replace('\"','')\n",
    "    string = string.replace(',',' ')\n",
    "    string = string.split()\n",
    "    to_list.append(string)"
   ]
  },
  {
   "cell_type": "code",
   "execution_count": 14,
   "metadata": {},
   "outputs": [
    {
     "data": {
      "text/plain": [
       "[['1569877284',\n",
       "  'Доставкаеды',\n",
       "  'Плохойсервис',\n",
       "  'Непраздник',\n",
       "  '0',\n",
       "  '1',\n",
       "  '1',\n",
       "  '0',\n",
       "  '1260',\n",
       "  '515'],\n",
       " ['1569877308',\n",
       "  'Motherfucker',\n",
       "  'Мультфильмы',\n",
       "  'Обзор',\n",
       "  'Аниме',\n",
       "  'Ублюдыш',\n",
       "  'Комиксы',\n",
       "  'Видео',\n",
       "  '0',\n",
       "  '0',\n",
       "  '0',\n",
       "  '1',\n",
       "  '0',\n",
       "  '219']]"
      ]
     },
     "execution_count": 14,
     "metadata": {},
     "output_type": "execute_result"
    }
   ],
   "source": [
    "to_list[5:7]"
   ]
  },
  {
   "cell_type": "code",
   "execution_count": 15,
   "metadata": {},
   "outputs": [
    {
     "data": {
      "text/html": [
       "<div>\n",
       "<style scoped>\n",
       "    .dataframe tbody tr th:only-of-type {\n",
       "        vertical-align: middle;\n",
       "    }\n",
       "\n",
       "    .dataframe tbody tr th {\n",
       "        vertical-align: top;\n",
       "    }\n",
       "\n",
       "    .dataframe thead th {\n",
       "        text-align: right;\n",
       "    }\n",
       "</style>\n",
       "<table border=\"1\" class=\"dataframe\">\n",
       "  <thead>\n",
       "    <tr style=\"text-align: right;\">\n",
       "      <th></th>\n",
       "      <th>time</th>\n",
       "      <th>tags</th>\n",
       "      <th>nsfw</th>\n",
       "      <th>my</th>\n",
       "      <th>images</th>\n",
       "      <th>videos</th>\n",
       "      <th>text_len</th>\n",
       "      <th>rating</th>\n",
       "      <th>string_to_list</th>\n",
       "    </tr>\n",
       "  </thead>\n",
       "  <tbody>\n",
       "    <tr>\n",
       "      <th>0</th>\n",
       "      <td>0</td>\n",
       "      <td>NaN</td>\n",
       "      <td>NaN</td>\n",
       "      <td>NaN</td>\n",
       "      <td>NaN</td>\n",
       "      <td>NaN</td>\n",
       "      <td>NaN</td>\n",
       "      <td>NaN</td>\n",
       "      <td>[1569877228, Творчестводетское, Рисунок, Детск...</td>\n",
       "    </tr>\n",
       "    <tr>\n",
       "      <th>1</th>\n",
       "      <td>0</td>\n",
       "      <td>NaN</td>\n",
       "      <td>NaN</td>\n",
       "      <td>NaN</td>\n",
       "      <td>NaN</td>\n",
       "      <td>NaN</td>\n",
       "      <td>NaN</td>\n",
       "      <td>NaN</td>\n",
       "      <td>[1569877232, Собака, Было-Стало, {#73#}, 0, 1,...</td>\n",
       "    </tr>\n",
       "    <tr>\n",
       "      <th>2</th>\n",
       "      <td>0</td>\n",
       "      <td>NaN</td>\n",
       "      <td>NaN</td>\n",
       "      <td>NaN</td>\n",
       "      <td>NaN</td>\n",
       "      <td>NaN</td>\n",
       "      <td>NaN</td>\n",
       "      <td>NaN</td>\n",
       "      <td>[1569877241, Дерево, Поле, Фотография, 0, 0, 1...</td>\n",
       "    </tr>\n",
       "  </tbody>\n",
       "</table>\n",
       "</div>"
      ],
      "text/plain": [
       "   time tags  nsfw  my  images  videos  text_len  rating  \\\n",
       "0     0  NaN   NaN NaN     NaN     NaN       NaN     NaN   \n",
       "1     0  NaN   NaN NaN     NaN     NaN       NaN     NaN   \n",
       "2     0  NaN   NaN NaN     NaN     NaN       NaN     NaN   \n",
       "\n",
       "                                      string_to_list  \n",
       "0  [1569877228, Творчестводетское, Рисунок, Детск...  \n",
       "1  [1569877232, Собака, Было-Стало, {#73#}, 0, 1,...  \n",
       "2  [1569877241, Дерево, Поле, Фотография, 0, 0, 1...  "
      ]
     },
     "execution_count": 15,
     "metadata": {},
     "output_type": "execute_result"
    }
   ],
   "source": [
    "# создать колонку из листа листов\n",
    "posts_df['string_to_list'] = to_list\n",
    "posts_df = posts_df.drop(\"string_to_split\", axis=1)\n",
    "posts_df.head(3)"
   ]
  },
  {
   "cell_type": "code",
   "execution_count": 16,
   "metadata": {
    "tags": []
   },
   "outputs": [],
   "source": [
    "######## извлечь из листа инфу для каждой из колонок\n",
    "time_to_list = []\n",
    "tags_to_list = []\n",
    "nsfw_to_list = []\n",
    "my_to_list = []\n",
    "images_to_list = []\n",
    "videos_to_list = []\n",
    "text_len_to_list = []\n",
    "rating_to_list = []\n",
    "\n",
    "for to_list in posts_df['string_to_list']:\n",
    "\n",
    "    time = int(to_list[0])\n",
    "    time_to_list.append(time)\n",
    "    \n",
    "    tags = ', '.join(to_list[1:-6])\n",
    "    tags_to_list.append(tags)\n",
    "    \n",
    "    nsfw = int(to_list[-6])\n",
    "    nsfw_to_list.append(nsfw)\n",
    "    \n",
    "    my = int(to_list[-5])\n",
    "    my_to_list.append(my)\n",
    "    \n",
    "    images = int(to_list[-4])\n",
    "    images_to_list.append(images)\n",
    "    \n",
    "    videos = int(to_list[-3])\n",
    "    videos_to_list.append(videos)\n",
    "    \n",
    "    text_len = int(to_list[-2])\n",
    "    text_len_to_list.append(text_len)\n",
    "    \n",
    "    rating = int(to_list[-1])\n",
    "    rating_to_list.append(rating)\n",
    "    \n",
    "\n",
    "posts_df['time'] = time_to_list\n",
    "posts_df['tags'] = tags_to_list\n",
    "posts_df['nsfw'] = nsfw_to_list\n",
    "posts_df['my'] = my_to_list\n",
    "posts_df['images'] = images_to_list\n",
    "posts_df['videos'] = videos_to_list\n",
    "posts_df['text_len'] = text_len_to_list\n",
    "posts_df['rating'] = rating_to_list\n",
    "posts_df = posts_df.drop(\"string_to_list\", axis=1)"
   ]
  },
  {
   "cell_type": "code",
   "execution_count": 17,
   "metadata": {},
   "outputs": [
    {
     "data": {
      "text/html": [
       "<div>\n",
       "<style scoped>\n",
       "    .dataframe tbody tr th:only-of-type {\n",
       "        vertical-align: middle;\n",
       "    }\n",
       "\n",
       "    .dataframe tbody tr th {\n",
       "        vertical-align: top;\n",
       "    }\n",
       "\n",
       "    .dataframe thead th {\n",
       "        text-align: right;\n",
       "    }\n",
       "</style>\n",
       "<table border=\"1\" class=\"dataframe\">\n",
       "  <thead>\n",
       "    <tr style=\"text-align: right;\">\n",
       "      <th></th>\n",
       "      <th>time</th>\n",
       "      <th>tags</th>\n",
       "      <th>nsfw</th>\n",
       "      <th>my</th>\n",
       "      <th>images</th>\n",
       "      <th>videos</th>\n",
       "      <th>text_len</th>\n",
       "      <th>rating</th>\n",
       "    </tr>\n",
       "  </thead>\n",
       "  <tbody>\n",
       "    <tr>\n",
       "      <th>0</th>\n",
       "      <td>1569877228</td>\n",
       "      <td>Творчестводетское, Рисунок, Детскийсад, Детски...</td>\n",
       "      <td>0</td>\n",
       "      <td>1</td>\n",
       "      <td>2</td>\n",
       "      <td>0</td>\n",
       "      <td>135</td>\n",
       "      <td>683</td>\n",
       "    </tr>\n",
       "    <tr>\n",
       "      <th>1</th>\n",
       "      <td>1569877232</td>\n",
       "      <td>Собака, Было-Стало, {#73#}</td>\n",
       "      <td>0</td>\n",
       "      <td>1</td>\n",
       "      <td>1</td>\n",
       "      <td>0</td>\n",
       "      <td>113</td>\n",
       "      <td>480</td>\n",
       "    </tr>\n",
       "    <tr>\n",
       "      <th>2</th>\n",
       "      <td>1569877241</td>\n",
       "      <td>Дерево, Поле, Фотография</td>\n",
       "      <td>0</td>\n",
       "      <td>0</td>\n",
       "      <td>1</td>\n",
       "      <td>0</td>\n",
       "      <td>0</td>\n",
       "      <td>301</td>\n",
       "    </tr>\n",
       "  </tbody>\n",
       "</table>\n",
       "</div>"
      ],
      "text/plain": [
       "         time                                               tags  nsfw  my  \\\n",
       "0  1569877228  Творчестводетское, Рисунок, Детскийсад, Детски...     0   1   \n",
       "1  1569877232                         Собака, Было-Стало, {#73#}     0   1   \n",
       "2  1569877241                           Дерево, Поле, Фотография     0   0   \n",
       "\n",
       "   images  videos  text_len  rating  \n",
       "0       2       0       135     683  \n",
       "1       1       0       113     480  \n",
       "2       1       0         0     301  "
      ]
     },
     "execution_count": 17,
     "metadata": {},
     "output_type": "execute_result"
    }
   ],
   "source": [
    "posts_df.head(3)"
   ]
  },
  {
   "cell_type": "code",
   "execution_count": 18,
   "metadata": {},
   "outputs": [
    {
     "data": {
      "text/plain": [
       "262442"
      ]
     },
     "execution_count": 18,
     "metadata": {},
     "output_type": "execute_result"
    }
   ],
   "source": [
    "len(posts_df)"
   ]
  },
  {
   "cell_type": "code",
   "execution_count": 19,
   "metadata": {},
   "outputs": [
    {
     "data": {
      "text/plain": [
       "135"
      ]
     },
     "execution_count": 19,
     "metadata": {},
     "output_type": "execute_result"
    }
   ],
   "source": [
    "len(correct_lines_df)"
   ]
  },
  {
   "cell_type": "code",
   "execution_count": 20,
   "metadata": {},
   "outputs": [
    {
     "data": {
      "text/plain": [
       "time         int64\n",
       "tags        object\n",
       "nsfw         int64\n",
       "my           int64\n",
       "images       int64\n",
       "videos       int64\n",
       "text_len     int64\n",
       "rating       int64\n",
       "dtype: object"
      ]
     },
     "execution_count": 20,
     "metadata": {},
     "output_type": "execute_result"
    }
   ],
   "source": [
    "#проверим типы данных\n",
    "posts_df.dtypes"
   ]
  },
  {
   "cell_type": "code",
   "execution_count": 21,
   "metadata": {},
   "outputs": [
    {
     "data": {
      "text/plain": [
       "time         object\n",
       "tags         object\n",
       "nsfw        float64\n",
       "my          float64\n",
       "images      float64\n",
       "videos      float64\n",
       "text_len    float64\n",
       "rating      float64\n",
       "dtype: object"
      ]
     },
     "execution_count": 21,
     "metadata": {},
     "output_type": "execute_result"
    }
   ],
   "source": [
    "correct_lines_df.dtypes"
   ]
  },
  {
   "cell_type": "code",
   "execution_count": 22,
   "metadata": {},
   "outputs": [
    {
     "data": {
      "text/plain": [
       "['time', 'nsfw', 'my', 'images', 'videos', 'text_len', 'rating']"
      ]
     },
     "execution_count": 22,
     "metadata": {},
     "output_type": "execute_result"
    }
   ],
   "source": [
    "# приведем типы данных в соответствие\n",
    "columns = ['time', 'nsfw', 'my', 'images', 'videos', 'text_len', 'rating']\n",
    "columns"
   ]
  },
  {
   "cell_type": "code",
   "execution_count": 23,
   "metadata": {},
   "outputs": [],
   "source": [
    "correct_lines_df = correct_lines_df.astype(\n",
    "    ({'time': np.int64, \n",
    "      'nsfw': np.int64, \n",
    "      'my': np.int64, \n",
    "      'images': np.int64, \n",
    "      'videos': np.int64, \n",
    "      'text_len': np.int64, \n",
    "      'rating': np.int64, })\n",
    ")"
   ]
  },
  {
   "cell_type": "code",
   "execution_count": 24,
   "metadata": {},
   "outputs": [
    {
     "data": {
      "text/plain": [
       "time         int64\n",
       "tags        object\n",
       "nsfw         int64\n",
       "my           int64\n",
       "images       int64\n",
       "videos       int64\n",
       "text_len     int64\n",
       "rating       int64\n",
       "dtype: object"
      ]
     },
     "execution_count": 24,
     "metadata": {},
     "output_type": "execute_result"
    }
   ],
   "source": [
    "correct_lines_df.dtypes"
   ]
  },
  {
   "cell_type": "code",
   "execution_count": 25,
   "metadata": {
    "tags": []
   },
   "outputs": [
    {
     "data": {
      "text/html": [
       "<div>\n",
       "<style scoped>\n",
       "    .dataframe tbody tr th:only-of-type {\n",
       "        vertical-align: middle;\n",
       "    }\n",
       "\n",
       "    .dataframe tbody tr th {\n",
       "        vertical-align: top;\n",
       "    }\n",
       "\n",
       "    .dataframe thead th {\n",
       "        text-align: right;\n",
       "    }\n",
       "</style>\n",
       "<table border=\"1\" class=\"dataframe\">\n",
       "  <thead>\n",
       "    <tr style=\"text-align: right;\">\n",
       "      <th></th>\n",
       "      <th>time</th>\n",
       "      <th>tags</th>\n",
       "      <th>nsfw</th>\n",
       "      <th>my</th>\n",
       "      <th>images</th>\n",
       "      <th>videos</th>\n",
       "      <th>text_len</th>\n",
       "      <th>rating</th>\n",
       "    </tr>\n",
       "  </thead>\n",
       "  <tbody>\n",
       "    <tr>\n",
       "      <th>0</th>\n",
       "      <td>1569877228</td>\n",
       "      <td>Творчестводетское, Рисунок, Детскийсад, Детски...</td>\n",
       "      <td>0</td>\n",
       "      <td>1</td>\n",
       "      <td>2</td>\n",
       "      <td>0</td>\n",
       "      <td>135</td>\n",
       "      <td>683</td>\n",
       "    </tr>\n",
       "    <tr>\n",
       "      <th>1</th>\n",
       "      <td>1569877232</td>\n",
       "      <td>Собака, Было-Стало, {#73#}</td>\n",
       "      <td>0</td>\n",
       "      <td>1</td>\n",
       "      <td>1</td>\n",
       "      <td>0</td>\n",
       "      <td>113</td>\n",
       "      <td>480</td>\n",
       "    </tr>\n",
       "    <tr>\n",
       "      <th>2</th>\n",
       "      <td>1569877241</td>\n",
       "      <td>Дерево, Поле, Фотография</td>\n",
       "      <td>0</td>\n",
       "      <td>0</td>\n",
       "      <td>1</td>\n",
       "      <td>0</td>\n",
       "      <td>0</td>\n",
       "      <td>301</td>\n",
       "    </tr>\n",
       "  </tbody>\n",
       "</table>\n",
       "</div>"
      ],
      "text/plain": [
       "         time                                               tags  nsfw  my  \\\n",
       "0  1569877228  Творчестводетское, Рисунок, Детскийсад, Детски...     0   1   \n",
       "1  1569877232                         Собака, Было-Стало, {#73#}     0   1   \n",
       "2  1569877241                           Дерево, Поле, Фотография     0   0   \n",
       "\n",
       "   images  videos  text_len  rating  \n",
       "0       2       0       135     683  \n",
       "1       1       0       113     480  \n",
       "2       1       0         0     301  "
      ]
     },
     "execution_count": 25,
     "metadata": {},
     "output_type": "execute_result"
    }
   ],
   "source": [
    "# сконкатенировать два ДФ-ма\n",
    "df = pd.concat([posts_df, correct_lines_df], ignore_index=True)\n",
    "df.head(3)"
   ]
  },
  {
   "cell_type": "code",
   "execution_count": 26,
   "metadata": {},
   "outputs": [
    {
     "data": {
      "text/plain": [
       "262577"
      ]
     },
     "execution_count": 26,
     "metadata": {},
     "output_type": "execute_result"
    }
   ],
   "source": [
    "len(df)"
   ]
  },
  {
   "cell_type": "code",
   "execution_count": 27,
   "metadata": {},
   "outputs": [
    {
     "data": {
      "text/plain": [
       "time         int64\n",
       "tags        object\n",
       "nsfw         int64\n",
       "my           int64\n",
       "images       int64\n",
       "videos       int64\n",
       "text_len     int64\n",
       "rating       int64\n",
       "dtype: object"
      ]
     },
     "execution_count": 27,
     "metadata": {},
     "output_type": "execute_result"
    }
   ],
   "source": [
    "df.dtypes"
   ]
  },
  {
   "cell_type": "markdown",
   "metadata": {
    "tags": []
   },
   "source": [
    "Давайте из столбца `time` вытащим сведения о том, в какое время суток был опубликован пост. \n",
    "\n",
    "Но если мы будем кодировать время суток как просто количество секунд, прошедшее с определённого момента, то мы не сможем учесть тот факт, что минимальные и максимальные моменты времени достаточно близки друг к другу. Так, например, время 23:59 и 00:01 - практически одно и то же, но на нашей шкале они будут максимально далеко друг от друга. \n",
    "\n",
    "Для того, чтобы избежать такого эффекта, представим время как угловую координату на окружности (меняющуюся от 0 до 2pi) и закодируем его в виде двух переменных: синуса и косинуса этого угла. В таком случае близкие друг к другу моменты времени будут иметь близкие значения во входных данных."
   ]
  },
  {
   "cell_type": "code",
   "execution_count": 28,
   "metadata": {
    "tags": []
   },
   "outputs": [],
   "source": [
    "# получим количество секунд, прошедшее с начала суток\n",
    "df['time'] = df['time'] % (60*60*24)\n",
    "\n",
    "# и отнормируем все значения на 2pi\n",
    "df['time'] = (df['time'] / df['time'].max()) * 2*math.pi"
   ]
  },
  {
   "cell_type": "code",
   "execution_count": 29,
   "metadata": {},
   "outputs": [],
   "source": [
    "# добавим колонки с синусом и косинусом нашего времени\n",
    "tsin_list = []\n",
    "tcos_list = []\n",
    "for row in df['time']:\n",
    "    tsin_list.append(math.sin(row))\n",
    "    tcos_list.append(math.cos(row))\n",
    "\n",
    "df['tsin'] = tsin_list\n",
    "df['tcos'] = tcos_list"
   ]
  },
  {
   "cell_type": "code",
   "execution_count": 30,
   "metadata": {},
   "outputs": [],
   "source": [
    "df = df.drop(columns=['time'])"
   ]
  },
  {
   "cell_type": "code",
   "execution_count": 31,
   "metadata": {},
   "outputs": [
    {
     "data": {
      "text/html": [
       "<div>\n",
       "<style scoped>\n",
       "    .dataframe tbody tr th:only-of-type {\n",
       "        vertical-align: middle;\n",
       "    }\n",
       "\n",
       "    .dataframe tbody tr th {\n",
       "        vertical-align: top;\n",
       "    }\n",
       "\n",
       "    .dataframe thead th {\n",
       "        text-align: right;\n",
       "    }\n",
       "</style>\n",
       "<table border=\"1\" class=\"dataframe\">\n",
       "  <thead>\n",
       "    <tr style=\"text-align: right;\">\n",
       "      <th></th>\n",
       "      <th>tags</th>\n",
       "      <th>nsfw</th>\n",
       "      <th>my</th>\n",
       "      <th>images</th>\n",
       "      <th>videos</th>\n",
       "      <th>text_len</th>\n",
       "      <th>rating</th>\n",
       "      <th>tsin</th>\n",
       "      <th>tcos</th>\n",
       "    </tr>\n",
       "  </thead>\n",
       "  <tbody>\n",
       "    <tr>\n",
       "      <th>0</th>\n",
       "      <td>Творчестводетское, Рисунок, Детскийсад, Детски...</td>\n",
       "      <td>0</td>\n",
       "      <td>1</td>\n",
       "      <td>2</td>\n",
       "      <td>0</td>\n",
       "      <td>135</td>\n",
       "      <td>683</td>\n",
       "      <td>-0.705620</td>\n",
       "      <td>0.708590</td>\n",
       "    </tr>\n",
       "    <tr>\n",
       "      <th>1</th>\n",
       "      <td>Собака, Было-Стало, {#73#}</td>\n",
       "      <td>0</td>\n",
       "      <td>1</td>\n",
       "      <td>1</td>\n",
       "      <td>0</td>\n",
       "      <td>113</td>\n",
       "      <td>480</td>\n",
       "      <td>-0.705414</td>\n",
       "      <td>0.708795</td>\n",
       "    </tr>\n",
       "    <tr>\n",
       "      <th>2</th>\n",
       "      <td>Дерево, Поле, Фотография</td>\n",
       "      <td>0</td>\n",
       "      <td>0</td>\n",
       "      <td>1</td>\n",
       "      <td>0</td>\n",
       "      <td>0</td>\n",
       "      <td>301</td>\n",
       "      <td>-0.704950</td>\n",
       "      <td>0.709257</td>\n",
       "    </tr>\n",
       "    <tr>\n",
       "      <th>3</th>\n",
       "      <td>Военторг, Изсети, Продукты, Длиннопост</td>\n",
       "      <td>0</td>\n",
       "      <td>0</td>\n",
       "      <td>4</td>\n",
       "      <td>0</td>\n",
       "      <td>0</td>\n",
       "      <td>425</td>\n",
       "      <td>-0.704537</td>\n",
       "      <td>0.709667</td>\n",
       "    </tr>\n",
       "    <tr>\n",
       "      <th>4</th>\n",
       "      <td>MortalKombat11, Тизер, Текст, Геймеры, Новости...</td>\n",
       "      <td>0</td>\n",
       "      <td>0</td>\n",
       "      <td>1</td>\n",
       "      <td>0</td>\n",
       "      <td>726</td>\n",
       "      <td>617</td>\n",
       "      <td>-0.704021</td>\n",
       "      <td>0.710179</td>\n",
       "    </tr>\n",
       "  </tbody>\n",
       "</table>\n",
       "</div>"
      ],
      "text/plain": [
       "                                                tags  nsfw  my  images  \\\n",
       "0  Творчестводетское, Рисунок, Детскийсад, Детски...     0   1       2   \n",
       "1                         Собака, Было-Стало, {#73#}     0   1       1   \n",
       "2                           Дерево, Поле, Фотография     0   0       1   \n",
       "3             Военторг, Изсети, Продукты, Длиннопост     0   0       4   \n",
       "4  MortalKombat11, Тизер, Текст, Геймеры, Новости...     0   0       1   \n",
       "\n",
       "   videos  text_len  rating      tsin      tcos  \n",
       "0       0       135     683 -0.705620  0.708590  \n",
       "1       0       113     480 -0.705414  0.708795  \n",
       "2       0         0     301 -0.704950  0.709257  \n",
       "3       0         0     425 -0.704537  0.709667  \n",
       "4       0       726     617 -0.704021  0.710179  "
      ]
     },
     "execution_count": 31,
     "metadata": {},
     "output_type": "execute_result"
    }
   ],
   "source": [
    "df.head()"
   ]
  },
  {
   "cell_type": "markdown",
   "metadata": {},
   "source": [
    "Теперь разберёмся с тегами. Их достаточно много разных.\n",
    "\n",
    "Среди них встречаются теги вида `{#73#}` - это теги сообществ. Т.к. они достаточно редки, давайте уберём их, но добавим в наш датасет дополнительный признак - был ли пост опубликован в сообществе."
   ]
  },
  {
   "cell_type": "code",
   "execution_count": 32,
   "metadata": {},
   "outputs": [],
   "source": [
    "#сделаем из строк списки с тегами\n",
    "df['tags'] = df['tags'].apply(lambda x: x.split(', '))"
   ]
  },
  {
   "cell_type": "code",
   "execution_count": 33,
   "metadata": {},
   "outputs": [],
   "source": [
    "in_comm_list = []  # новый столбец в нашем датасете, \"был ли пост опубликован в сообществе\"\n",
    "\n",
    "# удалим теги, начинающиеся и заканчивающиеся фигурной скобкой, \n",
    "# при этом запомнив, что пост был в сообществе\n",
    "for row in df['tags']:\n",
    "    is_in_comm = 0\n",
    "    for tag in row:\n",
    "        if tag[0] == '{' and tag[-1] == '}':\n",
    "            row.remove(tag)\n",
    "            is_in_comm = 1\n",
    "    in_comm_list.append(is_in_comm)\n",
    "\n",
    "df['in_comm'] = in_comm_list"
   ]
  },
  {
   "cell_type": "markdown",
   "metadata": {},
   "source": [
    "Теперь давайте посмотрим, сколько вообще у нас имеется разных тегов:"
   ]
  },
  {
   "cell_type": "code",
   "execution_count": 34,
   "metadata": {},
   "outputs": [
    {
     "name": "stdout",
     "output_type": "stream",
     "text": [
      "Количество используемых тегов: 63296\n"
     ]
    }
   ],
   "source": [
    "# воспользуемся множествами, чтобы каждый тег учесть только в одном экземпляре\n",
    "tags_set = set()\n",
    "\n",
    "# добавим все имеющиеся теги в множество\n",
    "for row in df['tags']:\n",
    "    for tag in row:\n",
    "        tags_set.add(tag)\n",
    "\n",
    "print(f\"Количество используемых тегов: {len(tags_set)}\")"
   ]
  },
  {
   "cell_type": "markdown",
   "metadata": {},
   "source": [
    "Тегов много, но многие из них используются достаточно редко и вряд ли дадут нам много информации. Поэтому давайте при помощи One-Hot Encoding закодируем 50 самых популярных тегов, а если никакие из них не встречаются в посте, укажем это в дополнительном столбце `other`."
   ]
  },
  {
   "cell_type": "code",
   "execution_count": 35,
   "metadata": {},
   "outputs": [],
   "source": [
    "# создадим словарь для подсчёта того, \n",
    "# сколько раз каждый тег встречается в нашем датасете\n",
    "tags_dict = {tag: 0 for tag in tags_set}\n",
    "\n",
    "for row in df['tags']:\n",
    "    for tag in row:\n",
    "        tags_dict[tag] += 1"
   ]
  },
  {
   "cell_type": "code",
   "execution_count": 36,
   "metadata": {},
   "outputs": [],
   "source": [
    "# преобразуем словарь в список пар (тег, кол-во вхождений)\n",
    "# и отсортируем его по убыванию числа вхождений тега\n",
    "tags_list = list(tags_dict.items())\n",
    "tags_list.sort(key=lambda x: x[1], reverse=True)"
   ]
  },
  {
   "cell_type": "code",
   "execution_count": 37,
   "metadata": {},
   "outputs": [
    {
     "data": {
      "text/plain": [
       "[('Длиннопост', 75128),\n",
       " ('Текст', 59256),\n",
       " ('Видео', 34107),\n",
       " ('Юмор', 14957),\n",
       " ('Кот', 13512),\n",
       " ('Фотография', 10869),\n",
       " ('Мат', 8662),\n",
       " ('Скриншот', 8251),\n",
       " ('Арт', 7585),\n",
       " ('Комиксы', 6446)]"
      ]
     },
     "execution_count": 37,
     "metadata": {},
     "output_type": "execute_result"
    }
   ],
   "source": [
    "# 10 самых популярных тегов:\n",
    "tags_list[:10]"
   ]
  },
  {
   "cell_type": "code",
   "execution_count": 38,
   "metadata": {},
   "outputs": [
    {
     "data": {
      "text/plain": [
       "[('Чернобров', 1),\n",
       " ('т-150', 1),\n",
       " ('ФранкоДзеффирелли', 1),\n",
       " ('Розовыйжемчуг', 1),\n",
       " ('Rugo', 1),\n",
       " ('Ямочки', 1),\n",
       " ('Перевоспитание', 1),\n",
       " ('Транснациональныекомпании', 1),\n",
       " ('Вакуумнаякамера', 1),\n",
       " ('LauraBodewig', 1)]"
      ]
     },
     "execution_count": 38,
     "metadata": {},
     "output_type": "execute_result"
    }
   ],
   "source": [
    "# 10 самых непопулярных тегов:\n",
    "tags_list[-10:]"
   ]
  },
  {
   "cell_type": "code",
   "execution_count": 39,
   "metadata": {},
   "outputs": [],
   "source": [
    "# будем использовать только 50 самых популярных тегов\n",
    "tags2use = 50\n",
    "popular_tags = [t[0] for t in tags_list[:tags2use]]"
   ]
  },
  {
   "cell_type": "code",
   "execution_count": 40,
   "metadata": {},
   "outputs": [],
   "source": [
    "# создадим в датафрейме колонку под каждый тег, \n",
    "# где отметим, встречался ли этот тег в посте\n",
    "for tag in popular_tags:\n",
    "    df[tag] = df['tags'].apply(lambda x: int(tag in x))"
   ]
  },
  {
   "cell_type": "code",
   "execution_count": 41,
   "metadata": {},
   "outputs": [],
   "source": [
    "# в столбце `other` сделаем отметку, \n",
    "# если пост не описывается популярными тегами \n",
    "# (т.е. в столбцах с тегами стоят одни нули)\n",
    "df['other'] = df[popular_tags].sum(axis=1)\n",
    "df['other'] = df['other'].apply(lambda x: int(x == 0))"
   ]
  },
  {
   "cell_type": "code",
   "execution_count": 42,
   "metadata": {},
   "outputs": [
    {
     "data": {
      "text/html": [
       "<div>\n",
       "<style scoped>\n",
       "    .dataframe tbody tr th:only-of-type {\n",
       "        vertical-align: middle;\n",
       "    }\n",
       "\n",
       "    .dataframe tbody tr th {\n",
       "        vertical-align: top;\n",
       "    }\n",
       "\n",
       "    .dataframe thead th {\n",
       "        text-align: right;\n",
       "    }\n",
       "</style>\n",
       "<table border=\"1\" class=\"dataframe\">\n",
       "  <thead>\n",
       "    <tr style=\"text-align: right;\">\n",
       "      <th></th>\n",
       "      <th>tags</th>\n",
       "      <th>nsfw</th>\n",
       "      <th>my</th>\n",
       "      <th>images</th>\n",
       "      <th>videos</th>\n",
       "      <th>text_len</th>\n",
       "      <th>rating</th>\n",
       "      <th>tsin</th>\n",
       "      <th>tcos</th>\n",
       "      <th>in_comm</th>\n",
       "      <th>...</th>\n",
       "      <th>Своимируками</th>\n",
       "      <th>MyLittlePony</th>\n",
       "      <th>Музыка</th>\n",
       "      <th>Мошенничество</th>\n",
       "      <th>Отношения</th>\n",
       "      <th>Стихи</th>\n",
       "      <th>Зима</th>\n",
       "      <th>СССР</th>\n",
       "      <th>Еда</th>\n",
       "      <th>other</th>\n",
       "    </tr>\n",
       "  </thead>\n",
       "  <tbody>\n",
       "    <tr>\n",
       "      <th>0</th>\n",
       "      <td>[Творчестводетское, Рисунок, Детскийсад, Детск...</td>\n",
       "      <td>0</td>\n",
       "      <td>1</td>\n",
       "      <td>2</td>\n",
       "      <td>0</td>\n",
       "      <td>135</td>\n",
       "      <td>683</td>\n",
       "      <td>-0.705620</td>\n",
       "      <td>0.708590</td>\n",
       "      <td>0</td>\n",
       "      <td>...</td>\n",
       "      <td>0</td>\n",
       "      <td>0</td>\n",
       "      <td>0</td>\n",
       "      <td>0</td>\n",
       "      <td>0</td>\n",
       "      <td>0</td>\n",
       "      <td>0</td>\n",
       "      <td>0</td>\n",
       "      <td>0</td>\n",
       "      <td>0</td>\n",
       "    </tr>\n",
       "    <tr>\n",
       "      <th>1</th>\n",
       "      <td>[Собака, Было-Стало]</td>\n",
       "      <td>0</td>\n",
       "      <td>1</td>\n",
       "      <td>1</td>\n",
       "      <td>0</td>\n",
       "      <td>113</td>\n",
       "      <td>480</td>\n",
       "      <td>-0.705414</td>\n",
       "      <td>0.708795</td>\n",
       "      <td>1</td>\n",
       "      <td>...</td>\n",
       "      <td>0</td>\n",
       "      <td>0</td>\n",
       "      <td>0</td>\n",
       "      <td>0</td>\n",
       "      <td>0</td>\n",
       "      <td>0</td>\n",
       "      <td>0</td>\n",
       "      <td>0</td>\n",
       "      <td>0</td>\n",
       "      <td>0</td>\n",
       "    </tr>\n",
       "    <tr>\n",
       "      <th>2</th>\n",
       "      <td>[Дерево, Поле, Фотография]</td>\n",
       "      <td>0</td>\n",
       "      <td>0</td>\n",
       "      <td>1</td>\n",
       "      <td>0</td>\n",
       "      <td>0</td>\n",
       "      <td>301</td>\n",
       "      <td>-0.704950</td>\n",
       "      <td>0.709257</td>\n",
       "      <td>0</td>\n",
       "      <td>...</td>\n",
       "      <td>0</td>\n",
       "      <td>0</td>\n",
       "      <td>0</td>\n",
       "      <td>0</td>\n",
       "      <td>0</td>\n",
       "      <td>0</td>\n",
       "      <td>0</td>\n",
       "      <td>0</td>\n",
       "      <td>0</td>\n",
       "      <td>0</td>\n",
       "    </tr>\n",
       "    <tr>\n",
       "      <th>3</th>\n",
       "      <td>[Военторг, Изсети, Продукты, Длиннопост]</td>\n",
       "      <td>0</td>\n",
       "      <td>0</td>\n",
       "      <td>4</td>\n",
       "      <td>0</td>\n",
       "      <td>0</td>\n",
       "      <td>425</td>\n",
       "      <td>-0.704537</td>\n",
       "      <td>0.709667</td>\n",
       "      <td>0</td>\n",
       "      <td>...</td>\n",
       "      <td>0</td>\n",
       "      <td>0</td>\n",
       "      <td>0</td>\n",
       "      <td>0</td>\n",
       "      <td>0</td>\n",
       "      <td>0</td>\n",
       "      <td>0</td>\n",
       "      <td>0</td>\n",
       "      <td>0</td>\n",
       "      <td>0</td>\n",
       "    </tr>\n",
       "    <tr>\n",
       "      <th>4</th>\n",
       "      <td>[MortalKombat11, Тизер, Текст, Геймеры, Новост...</td>\n",
       "      <td>0</td>\n",
       "      <td>0</td>\n",
       "      <td>1</td>\n",
       "      <td>0</td>\n",
       "      <td>726</td>\n",
       "      <td>617</td>\n",
       "      <td>-0.704021</td>\n",
       "      <td>0.710179</td>\n",
       "      <td>0</td>\n",
       "      <td>...</td>\n",
       "      <td>0</td>\n",
       "      <td>0</td>\n",
       "      <td>0</td>\n",
       "      <td>0</td>\n",
       "      <td>0</td>\n",
       "      <td>0</td>\n",
       "      <td>0</td>\n",
       "      <td>0</td>\n",
       "      <td>0</td>\n",
       "      <td>0</td>\n",
       "    </tr>\n",
       "  </tbody>\n",
       "</table>\n",
       "<p>5 rows × 61 columns</p>\n",
       "</div>"
      ],
      "text/plain": [
       "                                                tags  nsfw  my  images  \\\n",
       "0  [Творчестводетское, Рисунок, Детскийсад, Детск...     0   1       2   \n",
       "1                               [Собака, Было-Стало]     0   1       1   \n",
       "2                         [Дерево, Поле, Фотография]     0   0       1   \n",
       "3           [Военторг, Изсети, Продукты, Длиннопост]     0   0       4   \n",
       "4  [MortalKombat11, Тизер, Текст, Геймеры, Новост...     0   0       1   \n",
       "\n",
       "   videos  text_len  rating      tsin      tcos  in_comm  ...  Своимируками  \\\n",
       "0       0       135     683 -0.705620  0.708590        0  ...             0   \n",
       "1       0       113     480 -0.705414  0.708795        1  ...             0   \n",
       "2       0         0     301 -0.704950  0.709257        0  ...             0   \n",
       "3       0         0     425 -0.704537  0.709667        0  ...             0   \n",
       "4       0       726     617 -0.704021  0.710179        0  ...             0   \n",
       "\n",
       "   MyLittlePony  Музыка  Мошенничество  Отношения  Стихи  Зима  СССР  Еда  \\\n",
       "0             0       0              0          0      0     0     0    0   \n",
       "1             0       0              0          0      0     0     0    0   \n",
       "2             0       0              0          0      0     0     0    0   \n",
       "3             0       0              0          0      0     0     0    0   \n",
       "4             0       0              0          0      0     0     0    0   \n",
       "\n",
       "   other  \n",
       "0      0  \n",
       "1      0  \n",
       "2      0  \n",
       "3      0  \n",
       "4      0  \n",
       "\n",
       "[5 rows x 61 columns]"
      ]
     },
     "execution_count": 42,
     "metadata": {},
     "output_type": "execute_result"
    }
   ],
   "source": [
    "df.head()"
   ]
  },
  {
   "cell_type": "code",
   "execution_count": 43,
   "metadata": {},
   "outputs": [
    {
     "data": {
      "text/plain": [
       "Длиннопост                0.286118\n",
       "Текст                     0.225671\n",
       "Видео                     0.129893\n",
       "Юмор                      0.056962\n",
       "Кот                       0.051459\n",
       "Фотография                0.041394\n",
       "Мат                       0.032272\n",
       "Скриншот                  0.031423\n",
       "Арт                       0.028887\n",
       "Комиксы                   0.024549\n",
       "Аниме                     0.022454\n",
       "История                   0.020272\n",
       "AnimeArt                  0.020268\n",
       "Собака                    0.019362\n",
       "Безрейтинга               0.019122\n",
       "КомментариинаПикабу       0.018303\n",
       "Политика                  0.017599\n",
       "НовыйГод                  0.017515\n",
       "Дети                      0.017092\n",
       "Рисунок                   0.016806\n",
       "Картинкастекстом          0.016209\n",
       "Новости                   0.016163\n",
       "Девушки                   0.015782\n",
       "Помощь                    0.015100\n",
       "Россия                    0.014929\n",
       "Котомафия                 0.014918\n",
       "Работа                    0.014571\n",
       "Гифка                     0.014464\n",
       "Игры                      0.013840\n",
       "Реальнаяисторияизжизни    0.012709\n",
       "Негатив                   0.012659\n",
       "Комментарии               0.012080\n",
       "Животные                  0.011140\n",
       "Мемы                      0.011094\n",
       "Рассказ                   0.010881\n",
       "Авто                      0.010226\n",
       "Фильмы                    0.010058\n",
       "Москва                    0.009871\n",
       "Санкт-Петербург           0.009502\n",
       "Рукоделиебезпроцесса      0.009372\n",
       "Милота                    0.009346\n",
       "Своимируками              0.009030\n",
       "MyLittlePony              0.008889\n",
       "Музыка                    0.008805\n",
       "Мошенничество             0.008775\n",
       "Отношения                 0.008725\n",
       "Стихи                     0.008417\n",
       "Зима                      0.008398\n",
       "СССР                      0.008394\n",
       "Еда                       0.008299\n",
       "other                     0.156804\n",
       "dtype: float64"
      ]
     },
     "execution_count": 43,
     "metadata": {},
     "output_type": "execute_result"
    }
   ],
   "source": [
    "df[popular_tags + ['other']].mean()"
   ]
  },
  {
   "cell_type": "code",
   "execution_count": 44,
   "metadata": {},
   "outputs": [],
   "source": [
    "df = df.drop(columns=['tags'])"
   ]
  },
  {
   "cell_type": "code",
   "execution_count": null,
   "metadata": {},
   "outputs": [],
   "source": [
    "df.to_csv('prepared_posts_df.csv', index = False)"
   ]
  },
  {
   "cell_type": "code",
   "execution_count": null,
   "metadata": {},
   "outputs": [],
   "source": []
  }
 ],
 "metadata": {
  "kernelspec": {
   "display_name": "Python 3 (ipykernel)",
   "language": "python",
   "name": "python3"
  },
  "language_info": {
   "codemirror_mode": {
    "name": "ipython",
    "version": 3
   },
   "file_extension": ".py",
   "mimetype": "text/x-python",
   "name": "python",
   "nbconvert_exporter": "python",
   "pygments_lexer": "ipython3",
   "version": "3.7.9"
  },
  "widgets": {
   "application/vnd.jupyter.widget-state+json": {
    "state": {},
    "version_major": 2,
    "version_minor": 0
   }
  }
 },
 "nbformat": 4,
 "nbformat_minor": 4
}
